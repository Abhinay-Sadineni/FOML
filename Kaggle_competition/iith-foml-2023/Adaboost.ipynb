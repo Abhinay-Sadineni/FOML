{
 "cells": [
  {
   "cell_type": "code",
   "execution_count": 1,
   "metadata": {},
   "outputs": [],
   "source": [
    "import pandas as pd\n",
    "from sklearn.model_selection import train_test_split\n",
    "from sklearn.metrics import accuracy_score\n",
    "from sklearn.ensemble import GradientBoostingClassifier\n",
    "from sklearn.impute import KNNImputer\n",
    "import numpy as np\n",
    "\n",
    "np.random.seed(42)\n",
    "train_data = pd.read_csv(\"iith_foml_2023_train.csv\")\n",
    "columns_with_missing = train_data.columns[train_data.isnull().any()].tolist()\n",
    "\n",
    "imputer = KNNImputer(n_neighbors=1)\n",
    "train_data_imputed = train_data.copy()\n",
    "train_data_imputed[columns_with_missing] = imputer.fit_transform(train_data[columns_with_missing])\n",
    "# #changing the data\n",
    "# train_data.to_csv(\"train.csv\", index=False)\n",
    "# X_train = train_data.iloc[:, :-1]\n",
    "# Y_train = train_data.iloc[:, -1]\n",
    "X = train_data_imputed.iloc[:, :-1]\n",
    "Y = train_data_imputed.iloc[:, -1]\n",
    "X_train, X_test, Y_train, Y_test = train_test_split(X, Y, test_size=0.2, random_state=42)\n"
   ]
  },
  {
   "cell_type": "code",
   "execution_count": 2,
   "metadata": {},
   "outputs": [
    {
     "name": "stdout",
     "output_type": "stream",
     "text": [
      "Accuracy: 0.85\n"
     ]
    }
   ],
   "source": [
    "clf = GradientBoostingClassifier(n_estimators=100, learning_rate=0.1, max_depth=3, random_state=42)\n",
    "\n",
    "# Train the model\n",
    "clf.fit(X_train, Y_train)\n",
    "\n",
    "# Make predictions on the test set\n",
    "y_pred = clf.predict(X_test)\n",
    "\n",
    "# Evaluate the model\n",
    "accuracy = accuracy_score(Y_test, y_pred)\n",
    "print(f'Accuracy: {accuracy:.2f}')"
   ]
  },
  {
   "cell_type": "code",
   "execution_count": 3,
   "metadata": {},
   "outputs": [],
   "source": [
    "test_data = pd.read_csv(\"iith_foml_2023_test.csv\")\n",
    "columns_with_missing = test_data.columns[test_data.isnull().any()].tolist()\n",
    "train_data_imputed = test_data.copy()\n",
    "test_data_imputed = pd.DataFrame(imputer.fit_transform(test_data), columns=test_data.columns)\n",
    "Y_pred_rf = clf.predict(test_data_imputed)\n",
    "\n",
    "result_df = pd.DataFrame({\n",
    "    'Id': test_data.index + 1,\n",
    "    'Category': Y_pred_rf\n",
    "})\n",
    "result_df.to_csv('predictions_gb.csv', index=False)"
   ]
  },
  {
   "cell_type": "code",
   "execution_count": 4,
   "metadata": {},
   "outputs": [
    {
     "name": "stdout",
     "output_type": "stream",
     "text": [
      "0\n",
      "Rows in predictions_gb.csv but not in gb.csv\n",
      "Empty DataFrame\n",
      "Columns: [Id, Category]\n",
      "Index: []\n",
      "\n",
      "Rows in gb.csv but not in predictions_gb.csv\n",
      "Empty DataFrame\n",
      "Columns: [Id, Category]\n",
      "Index: []\n"
     ]
    }
   ],
   "source": [
    "file_path1 = \"predictions_gb.csv\"\n",
    "file_path2 = \"gb.csv\"\n",
    "\n",
    "# Read the CSV files into pandas DataFrames\n",
    "df1 = pd.read_csv(file_path1)\n",
    "df2 = pd.read_csv(file_path2)\n",
    "\n",
    "# Find rows that are in df1 but not in df2\n",
    "df_diff1 = pd.concat([df1, df2]).drop_duplicates(keep=False)\n",
    "\n",
    "# Find rows that are in df2 but not in df1\n",
    "df_diff2 = pd.concat([df2, df1]).drop_duplicates(keep=False)\n",
    "\n",
    "# Display the differences\n",
    "print(df_diff1.size)\n",
    "print(\"Rows in\", file_path1, \"but not in\", file_path2)\n",
    "print(df_diff1)\n",
    "\n",
    "print(\"\\nRows in\", file_path2, \"but not in\", file_path1)\n",
    "print(df_diff2)"
   ]
  },
  {
   "cell_type": "code",
   "execution_count": 5,
   "metadata": {},
   "outputs": [
    {
     "name": "stdout",
     "output_type": "stream",
     "text": [
      "68\n",
      "Rows in predictions.csv but not in predictions1.csv\n",
      "      Id  Category\n",
      "16    17         2\n",
      "23    24         2\n",
      "30    31         0\n",
      "50    51         4\n",
      "80    81         1\n",
      "147  148         9\n",
      "164  165         8\n",
      "181  182         5\n",
      "187  188         0\n",
      "197  198         2\n",
      "233  234         1\n",
      "236  237         2\n",
      "243  244         5\n",
      "255  256         2\n",
      "316  317         2\n",
      "317  318         2\n",
      "398  399         4\n",
      "16    17         1\n",
      "23    24         1\n",
      "30    31        13\n",
      "50    51         2\n",
      "80    81         5\n",
      "147  148         2\n",
      "164  165         2\n",
      "181  182         1\n",
      "187  188         2\n",
      "197  198         5\n",
      "233  234         5\n",
      "236  237         1\n",
      "243  244         2\n",
      "255  256        15\n",
      "316  317         5\n",
      "317  318         1\n",
      "398  399         1\n",
      "\n",
      "Rows in predictions1.csv but not in predictions.csv\n",
      "      Id  Category\n",
      "16    17         1\n",
      "23    24         1\n",
      "30    31        13\n",
      "50    51         2\n",
      "80    81         5\n",
      "147  148         2\n",
      "164  165         2\n",
      "181  182         1\n",
      "187  188         2\n",
      "197  198         5\n",
      "233  234         5\n",
      "236  237         1\n",
      "243  244         2\n",
      "255  256        15\n",
      "316  317         5\n",
      "317  318         1\n",
      "398  399         1\n",
      "16    17         2\n",
      "23    24         2\n",
      "30    31         0\n",
      "50    51         4\n",
      "80    81         1\n",
      "147  148         9\n",
      "164  165         8\n",
      "181  182         5\n",
      "187  188         0\n",
      "197  198         2\n",
      "233  234         1\n",
      "236  237         2\n",
      "243  244         5\n",
      "255  256         2\n",
      "316  317         2\n",
      "317  318         2\n",
      "398  399         4\n"
     ]
    }
   ],
   "source": [
    "file_path1 = \"predictions.csv\"\n",
    "file_path2 = \"predictions1.csv\"\n",
    "\n",
    "# Read the CSV files into pandas DataFrames\n",
    "df1 = pd.read_csv(file_path1)\n",
    "df2 = pd.read_csv(file_path2)\n",
    "\n",
    "# Find rows that are in df1 but not in df2\n",
    "df_diff1 = pd.concat([df1, df2]).drop_duplicates(keep=False)\n",
    "\n",
    "# Find rows that are in df2 but not in df1\n",
    "df_diff2 = pd.concat([df2, df1]).drop_duplicates(keep=False)\n",
    "\n",
    "# Display the differences\n",
    "print(df_diff1.size)\n",
    "print(\"Rows in\", file_path1, \"but not in\", file_path2)\n",
    "print(df_diff1)\n",
    "\n",
    "print(\"\\nRows in\", file_path2, \"but not in\", file_path1)\n",
    "print(df_diff2)"
   ]
  }
 ],
 "metadata": {
  "kernelspec": {
   "display_name": "Python 3",
   "language": "python",
   "name": "python3"
  },
  "language_info": {
   "codemirror_mode": {
    "name": "ipython",
    "version": 3
   },
   "file_extension": ".py",
   "mimetype": "text/x-python",
   "name": "python",
   "nbconvert_exporter": "python",
   "pygments_lexer": "ipython3",
   "version": "3.10.12"
  }
 },
 "nbformat": 4,
 "nbformat_minor": 2
}
