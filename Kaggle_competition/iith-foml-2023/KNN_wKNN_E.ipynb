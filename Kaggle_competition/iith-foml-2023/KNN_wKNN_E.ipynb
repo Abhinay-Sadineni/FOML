{
 "cells": [
  {
   "cell_type": "code",
   "execution_count": 18,
   "metadata": {},
   "outputs": [],
   "source": [
    "import pandas as pd\n",
    "from sklearn.model_selection import train_test_split\n",
    "from sklearn.preprocessing import StandardScaler\n",
    "from sklearn.metrics import accuracy_score\n",
    "from sklearn.impute import KNNImputer\n",
    "\n",
    "train_data = pd.read_csv(\"iith_foml_2023_train.csv\")\n",
    "#train_data = train_data.fillna(train_data.mean())\n",
    "columns_with_missing = train_data.columns[train_data.isnull().any()].tolist()\n",
    "\n",
    "imputer = KNNImputer(n_neighbors=7)\n",
    "train_data_imputed = train_data.copy()\n",
    "train_data_imputed[columns_with_missing] = imputer.fit_transform(train_data[columns_with_missing])\n",
    "# changing the data\n",
    "# train_data.to_csv(\"train.csv\", index=False)\n",
    "# X_train = train_data.iloc[:, :-1]\n",
    "# Y_train = train_data.iloc[:, -1]\n",
    "X_train = train_data_imputed.iloc[:, :-1]\n",
    "Y_train = train_data_imputed.iloc[:, -1]\n",
    "X_train_train, X_train_test, Y_train_train, Y_train_test = train_test_split(X_train, Y_train, test_size=0.3, random_state=42)"
   ]
  },
  {
   "cell_type": "code",
   "execution_count": 19,
   "metadata": {},
   "outputs": [],
   "source": [
    "from imblearn.over_sampling import RandomOverSampler\n",
    "ros = RandomOverSampler(random_state=42)\n",
    "X_train, Y_train = ros.fit_resample(X_train, Y_train)\n",
    "X_train_train, Y_train_train = ros.fit_resample(X_train_train,Y_train_train)"
   ]
  },
  {
   "cell_type": "code",
   "execution_count": 20,
   "metadata": {},
   "outputs": [],
   "source": [
    "scaler = StandardScaler()\n",
    "X_train_scaled = scaler.fit_transform(X_train)\n",
    "X_train_train_scaled = scaler.transform(X_train_train)\n",
    "X_train_test_scaled = scaler.transform(X_train_test)"
   ]
  },
  {
   "cell_type": "code",
   "execution_count": 21,
   "metadata": {},
   "outputs": [
    {
     "name": "stdout",
     "output_type": "stream",
     "text": [
      "KNN (k=1) Accuracy: 79.26%\n",
      "KNN (k=2) Accuracy: 77.59%\n",
      "KNN (k=3) Accuracy: 75.92%\n",
      "KNN (k=4) Accuracy: 75.25%\n",
      "KNN (k=5) Accuracy: 72.58%\n",
      "KNN (k=6) Accuracy: 71.91%\n",
      "KNN (k=7) Accuracy: 71.57%\n",
      "KNN (k=8) Accuracy: 71.57%\n",
      "KNN (k=9) Accuracy: 69.23%\n",
      "KNN (k=10) Accuracy: 68.90%\n",
      "KNN (k=11) Accuracy: 68.90%\n",
      "KNN (k=12) Accuracy: 68.23%\n",
      "KNN (k=13) Accuracy: 67.22%\n",
      "KNN (k=14) Accuracy: 67.22%\n",
      "KNN (k=15) Accuracy: 65.89%\n",
      "KNN (k=16) Accuracy: 65.89%\n",
      "KNN (k=17) Accuracy: 64.21%\n",
      "KNN (k=18) Accuracy: 65.22%\n",
      "KNN (k=19) Accuracy: 62.88%\n",
      "KNN (k=20) Accuracy: 62.54%\n",
      "KNN (k=21) Accuracy: 62.88%\n",
      "KNN (k=22) Accuracy: 63.21%\n",
      "KNN (k=23) Accuracy: 58.53%\n",
      "KNN (k=24) Accuracy: 58.19%\n",
      "KNN (k=25) Accuracy: 58.19%\n",
      "KNN (k=26) Accuracy: 57.53%\n",
      "KNN (k=27) Accuracy: 57.19%\n",
      "KNN (k=28) Accuracy: 58.19%\n",
      "KNN (k=29) Accuracy: 57.53%\n",
      "Best K value: 1 with accuracy 79.26%\n"
     ]
    }
   ],
   "source": [
    "from sklearn.neighbors import KNeighborsClassifier\n",
    "\n",
    "# Initialize a dictionary to store accuracy scores for different k values\n",
    "accuracy_scores = {}\n",
    "# Test k values from 5 to 19\n",
    "for k in range(1, 30):\n",
    "    # Create and train the KNN classifier\n",
    "    knn_classifier = KNeighborsClassifier(n_neighbors=k)\n",
    "    knn_classifier.fit(X_train_train_scaled, Y_train_train)\n",
    "\n",
    "    # Make predictions on the test set\n",
    "    Y_train_pred_knn = knn_classifier.predict(X_train_test_scaled)\n",
    "\n",
    "    # Calculate accuracy and store it in the dictionary\n",
    "    accuracy = accuracy_score(Y_train_test, Y_train_pred_knn)\n",
    "    accuracy_scores[k] = accuracy\n",
    "\n",
    "    print(f\"KNN (k={k}) Accuracy: {accuracy * 100:.2f}%\")\n",
    "\n",
    "# Find the k value with the highest accuracy\n",
    "best_k = max(accuracy_scores, key=accuracy_scores.get)\n",
    "print(f\"Best K value: {best_k} with accuracy {accuracy_scores[best_k] * 100:.2f}%\")"
   ]
  },
  {
   "cell_type": "code",
   "execution_count": 22,
   "metadata": {},
   "outputs": [
    {
     "name": "stdout",
     "output_type": "stream",
     "text": [
      "[[-1.29477388  0.934571   -1.022801   ... -0.29613803 -1.29316958\n",
      "   0.3595847 ]\n",
      " [-1.58915921 -0.70367918 -1.32776616 ... -1.32432988 -1.58685369\n",
      "   1.11999299]\n",
      " [ 1.0178749   0.3884876   1.1831137  ... -0.83471471  1.01397051\n",
      "   0.44189424]\n",
      " ...\n",
      " [ 0.84813921 -0.29411664  1.04079662 ...  1.19718824  0.84463913\n",
      "  -1.85930705]\n",
      " [ 1.75781642 -0.70367918  2.15900223 ... -1.20192609  1.76537852\n",
      "   0.75793906]\n",
      " [ 1.85594487 -0.29411664  2.31148481 ... -1.0795223   1.86327322\n",
      "   0.8684802 ]]\n"
     ]
    }
   ],
   "source": [
    "test_data = pd.read_csv(\"iith_foml_2023_test.csv\")\n",
    "imputer = KNNImputer(n_neighbors=7)\n",
    "test_data_imputed = pd.DataFrame(imputer.fit_transform(test_data), columns=test_data.columns)\n",
    "X_test_scaled = scaler.transform(test_data_imputed)\n",
    "print(X_test_scaled)\n",
    "\n",
    "knn_classifier = KNeighborsClassifier(n_neighbors=10)\n",
    "knn_classifier.fit(X_train_scaled, Y_train)\n",
    "\n",
    "# Make predictions on the test set\n",
    "Y_pred_knn = knn_classifier.predict(X_test_scaled)\n",
    "\n",
    "result_df = pd.DataFrame({\n",
    "    'Id': test_data.index + 1,\n",
    "    'Category': Y_pred_knn\n",
    "})\n",
    "result_df.to_csv('predictions_E_10.csv', index=False)\n"
   ]
  },
  {
   "cell_type": "code",
   "execution_count": 23,
   "metadata": {},
   "outputs": [],
   "source": [
    "\n",
    "# Y_pred_rf = rf_classifier.predict(test_data)\n",
    "\n",
    "# result_df = pd.DataFrame({\n",
    "#     'Id': test_data.index + 1,\n",
    "#     'Category': Y_pred_rf\n",
    "# })\n",
    "# result_df.to_csv('predictions.csv', index=False)"
   ]
  },
  {
   "cell_type": "code",
   "execution_count": 24,
   "metadata": {},
   "outputs": [
    {
     "name": "stdout",
     "output_type": "stream",
     "text": [
      "Rows in predictions_E_10.csv but not in predictions_E_9.csv\n",
      "      Id  Category\n",
      "39    40         2\n",
      "57    58         0\n",
      "119  120         1\n",
      "164  165         2\n",
      "211  212         2\n",
      "235  236         0\n",
      "244  245         6\n",
      "345  346         1\n",
      "39    40         0\n",
      "57    58         2\n",
      "119  120         0\n",
      "164  165         1\n",
      "211  212         0\n",
      "235  236         2\n",
      "244  245         1\n",
      "345  346         0\n",
      "\n",
      "Rows in predictions_E_9.csv but not in predictions_E_10.csv\n",
      "      Id  Category\n",
      "39    40         0\n",
      "57    58         2\n",
      "119  120         0\n",
      "164  165         1\n",
      "211  212         0\n",
      "235  236         2\n",
      "244  245         1\n",
      "345  346         0\n",
      "39    40         2\n",
      "57    58         0\n",
      "119  120         1\n",
      "164  165         2\n",
      "211  212         2\n",
      "235  236         0\n",
      "244  245         6\n",
      "345  346         1\n"
     ]
    }
   ],
   "source": [
    "file_path1 = \"predictions_E_10.csv\"\n",
    "file_path2 = \"predictions_E_9.csv\"\n",
    "\n",
    "# Read the CSV files into pandas DataFrames\n",
    "df1 = pd.read_csv(file_path1)\n",
    "df2 = pd.read_csv(file_path2)\n",
    "\n",
    "# Find rows that are in df1 but not in df2\n",
    "df_diff1 = pd.concat([df1, df2]).drop_duplicates(keep=False)\n",
    "\n",
    "# Find rows that are in df2 but not in df1\n",
    "df_diff2 = pd.concat([df2, df1]).drop_duplicates(keep=False)\n",
    "\n",
    "# Display the differences\n",
    "print(\"Rows in\", file_path1, \"but not in\", file_path2)\n",
    "print(df_diff1)\n",
    "\n",
    "print(\"\\nRows in\", file_path2, \"but not in\", file_path1)\n",
    "print(df_diff2)"
   ]
  },
  {
   "cell_type": "code",
   "execution_count": 25,
   "metadata": {},
   "outputs": [
    {
     "name": "stdout",
     "output_type": "stream",
     "text": [
      "Rows in predictions_man.csv but not in 1.csv\n",
      "      Id  Category\n",
      "14    15         1\n",
      "15    16         5\n",
      "16    17        13\n",
      "21    22         2\n",
      "25    26         2\n",
      "..   ...       ...\n",
      "388  389        14\n",
      "391  392         0\n",
      "417  418         1\n",
      "420  421         0\n",
      "425  426        17\n",
      "\n",
      "[114 rows x 2 columns]\n",
      "\n",
      "Rows in 1.csv but not in predictions_man.csv\n",
      "      Id  Category\n",
      "14    15         2\n",
      "15    16         0\n",
      "16    17         8\n",
      "21    22         8\n",
      "25    26         0\n",
      "..   ...       ...\n",
      "388  389         1\n",
      "391  392         2\n",
      "417  418         0\n",
      "420  421         2\n",
      "425  426         0\n",
      "\n",
      "[114 rows x 2 columns]\n"
     ]
    }
   ],
   "source": [
    "file_path1 = \"predictions_man.csv\"\n",
    "file_path2 = \"1.csv\"\n",
    "\n",
    "# Read the CSV files into pandas DataFrames\n",
    "df1 = pd.read_csv(file_path1)\n",
    "df2 = pd.read_csv(file_path2)\n",
    "\n",
    "# Find rows that are in df1 but not in df2\n",
    "df_diff1 = pd.concat([df1, df2]).drop_duplicates(keep=False)\n",
    "\n",
    "# Find rows that are in df2 but not in df1\n",
    "df_diff2 = pd.concat([df2, df1]).drop_duplicates(keep=False)\n",
    "\n",
    "# Display the differences\n",
    "print(\"Rows in\", file_path1, \"but not in\", file_path2)\n",
    "print(df_diff1)\n",
    "\n",
    "print(\"\\nRows in\", file_path2, \"but not in\", file_path1)\n",
    "print(df_diff2)"
   ]
  }
 ],
 "metadata": {
  "kernelspec": {
   "display_name": "Python 3",
   "language": "python",
   "name": "python3"
  },
  "language_info": {
   "codemirror_mode": {
    "name": "ipython",
    "version": 3
   },
   "file_extension": ".py",
   "mimetype": "text/x-python",
   "name": "python",
   "nbconvert_exporter": "python",
   "pygments_lexer": "ipython3",
   "version": "3.10.12"
  }
 },
 "nbformat": 4,
 "nbformat_minor": 2
}
