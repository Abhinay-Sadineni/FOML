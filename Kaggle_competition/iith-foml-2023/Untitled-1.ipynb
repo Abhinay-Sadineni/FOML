{
 "cells": [
  {
   "cell_type": "code",
   "execution_count": 4,
   "metadata": {},
   "outputs": [],
   "source": [
    "import pandas as pd\n",
    "from sklearn.model_selection import train_test_split\n",
    "from sklearn.preprocessing import StandardScaler\n",
    "from sklearn.ensemble import RandomForestClassifier\n",
    "from sklearn.metrics import accuracy_score\n",
    "\n",
    "train_data = pd.read_csv(\"iith_foml_2023_train.csv\")\n",
    "train_data = train_data.fillna(train_data.mean())\n",
    "# #changing the data\n",
    "# train_data.to_csv(\"train.csv\", index=False)\n",
    "X = train_data.iloc[:, :-1]\n",
    "Y = train_data.iloc[:, -1]\n",
    "# X = train_data.iloc[:, :-1]\n",
    "# Y = train_data.iloc[:, -1]\n",
    "X_train, X_test, Y_train, Y_test = train_test_split(X, Y, test_size=0.4, random_state=42)\n"
   ]
  },
  {
   "cell_type": "code",
   "execution_count": 9,
   "metadata": {},
   "outputs": [],
   "source": [
    "# scaler = StandardScaler()\n",
    "# X_train = scaler.fit_transform(X_train)\n",
    "# X_test = scaler.transform(X_test)"
   ]
  },
  {
   "cell_type": "code",
   "execution_count": 6,
   "metadata": {},
   "outputs": [
    {
     "name": "stdout",
     "output_type": "stream",
     "text": [
      "Accuracy: 88.19%\n"
     ]
    }
   ],
   "source": [
    "rf_classifier = RandomForestClassifier(random_state=42)\n",
    "rf_classifier.fit(X_train, Y_train)\n",
    "\n",
    "Y_pred_rf = rf_classifier.predict(X_test)\n",
    "# Evaluate the model\n",
    "accuracy = accuracy_score(Y_test, Y_pred_rf)\n",
    "print(f\"Accuracy: {accuracy * 100:.2f}%\")"
   ]
  },
  {
   "cell_type": "code",
   "execution_count": 15,
   "metadata": {},
   "outputs": [],
   "source": [
    "test_data = pd.read_csv(\"iith_foml_2023_test.csv\")\n",
    "test_data = test_data.fillna(test_data.mean())\n",
    "Y_pred_rf = rf_classifier.predict(test_data)\n",
    "\n",
    "result_df = pd.DataFrame({\n",
    "    'Id': test_data.index + 1,\n",
    "    'Category': Y_pred_rf\n",
    "})\n",
    "result_df.to_csv('predictions.csv', index=False)"
   ]
  },
  {
   "cell_type": "code",
   "execution_count": 18,
   "metadata": {},
   "outputs": [
    {
     "name": "stdout",
     "output_type": "stream",
     "text": [
      "Rows in predictions3.csv but not in predictions_knn_5_ws.csv\n",
      "      Id  Category\n",
      "1      2         2\n",
      "9     10         0\n",
      "11    12         6\n",
      "14    15         2\n",
      "20    21         5\n",
      "..   ...       ...\n",
      "398  399         0\n",
      "403  404         0\n",
      "404  405         0\n",
      "409  410         1\n",
      "420  421         1\n",
      "\n",
      "[172 rows x 2 columns]\n",
      "\n",
      "Rows in predictions_knn_5_ws.csv but not in predictions3.csv\n",
      "      Id  Category\n",
      "1      2         0\n",
      "9     10         8\n",
      "11    12         1\n",
      "14    15         0\n",
      "20    21         2\n",
      "..   ...       ...\n",
      "398  399         4\n",
      "403  404         2\n",
      "404  405         1\n",
      "409  410         0\n",
      "420  421         2\n",
      "\n",
      "[172 rows x 2 columns]\n"
     ]
    }
   ],
   "source": [
    "file_path1 = \"predictions3.csv\"\n",
    "file_path2 = \"predictions_knn_5_ws.csv\"\n",
    "\n",
    "# Read the CSV files into pandas DataFrames\n",
    "df1 = pd.read_csv(file_path1)\n",
    "df2 = pd.read_csv(file_path2)\n",
    "\n",
    "# Find rows that are in df1 but not in df2\n",
    "df_diff1 = pd.concat([df1, df2]).drop_duplicates(keep=False)\n",
    "\n",
    "# Find rows that are in df2 but not in df1\n",
    "df_diff2 = pd.concat([df2, df1]).drop_duplicates(keep=False)\n",
    "\n",
    "# Display the differences\n",
    "print(\"Rows in\", file_path1, \"but not in\", file_path2)\n",
    "print(df_diff1)\n",
    "\n",
    "print(\"\\nRows in\", file_path2, \"but not in\", file_path1)\n",
    "print(df_diff2)"
   ]
  },
  {
   "cell_type": "code",
   "execution_count": null,
   "metadata": {},
   "outputs": [
    {
     "name": "stdout",
     "output_type": "stream",
     "text": [
      "{'min_samples_leaf': 1, 'min_samples_split': 2, 'n_estimators': 125}\n",
      "Sorted Y Values and their Counts:\n",
      "Target Variable (Discrete)\n",
      "0     249\n",
      "1     488\n",
      "2     109\n",
      "3       3\n",
      "4       3\n",
      "5      41\n",
      "6      70\n",
      "7       5\n",
      "8       7\n",
      "9       2\n",
      "10      1\n",
      "11      1\n",
      "12      1\n",
      "13      3\n",
      "14      5\n",
      "15      4\n",
      "16      1\n",
      "17      1\n",
      "Name: count, dtype: int64\n"
     ]
    }
   ],
   "source": []
  }
 ],
 "metadata": {
  "kernelspec": {
   "display_name": "Python 3",
   "language": "python",
   "name": "python3"
  },
  "language_info": {
   "codemirror_mode": {
    "name": "ipython",
    "version": 3
   },
   "file_extension": ".py",
   "mimetype": "text/x-python",
   "name": "python",
   "nbconvert_exporter": "python",
   "pygments_lexer": "ipython3",
   "version": "3.10.12"
  }
 },
 "nbformat": 4,
 "nbformat_minor": 2
}
