{
 "cells": [
  {
   "cell_type": "code",
   "execution_count": 20,
   "metadata": {},
   "outputs": [],
   "source": [
    "import pandas as pd\n",
    "from sklearn.model_selection import train_test_split\n",
    "from sklearn.preprocessing import StandardScaler\n",
    "from sklearn.metrics import accuracy_score\n",
    "from sklearn.impute import KNNImputer\n",
    "\n",
    "train_data = pd.read_csv(\"iith_foml_2023_train.csv\")\n",
    "train_data = train_data.drop(columns=['Feature 16', 'Feature 17', 'Feature 18'])\n",
    "train_data = train_data.fillna(train_data.mean())\n",
    "# imputer = KNNImputer(n_neighbors=1)\n",
    "# train_data_imputed = train_data.copy()\n",
    "# train_data_imputed[columns_with_missing] = imputer.fit_transform(train_data[columns_with_missing])\n",
    "# changing the data\n",
    "# train_data.to_csv(\"train.csv\", index=False)\n",
    "# X_train = train_data.iloc[:, :-1]\n",
    "# Y_train = train_data.iloc[:, -1]\n",
    "X_train = train_data.iloc[:, :-1]\n",
    "Y_train = train_data.iloc[:, -1]\n",
    "X_train_train, X_train_test, Y_train_train, Y_train_test = train_test_split(X_train, Y_train, test_size=0.2, random_state=42)\n"
   ]
  },
  {
   "cell_type": "code",
   "execution_count": 21,
   "metadata": {},
   "outputs": [],
   "source": [
    "# from imblearn.over_sampling import RandomOverSampler\n",
    "# ros = RandomOverSampler(random_state=42)\n",
    "# X_train, Y_train = ros.fit_resample(X_train, Y_train)\n",
    "# X_train_train, Y_train_train = ros.fit_resample(X_train_train,Y_train_train)"
   ]
  },
  {
   "cell_type": "code",
   "execution_count": 22,
   "metadata": {},
   "outputs": [],
   "source": [
    "scaler = StandardScaler()\n",
    "X_train_scaled = scaler.fit_transform(X_train)\n",
    "X_train_train_scaled = scaler.transform(X_train_train)\n",
    "X_train_test_scaled = scaler.transform(X_train_test)"
   ]
  },
  {
   "cell_type": "code",
   "execution_count": 23,
   "metadata": {},
   "outputs": [
    {
     "name": "stdout",
     "output_type": "stream",
     "text": [
      "KNN (k=1) Accuracy: 81.41%\n",
      "KNN (k=2) Accuracy: 78.39%\n",
      "KNN (k=3) Accuracy: 79.90%\n",
      "KNN (k=4) Accuracy: 80.90%\n",
      "KNN (k=5) Accuracy: 77.89%\n",
      "KNN (k=6) Accuracy: 75.38%\n",
      "KNN (k=7) Accuracy: 75.88%\n",
      "KNN (k=8) Accuracy: 75.38%\n",
      "KNN (k=9) Accuracy: 75.88%\n",
      "KNN (k=10) Accuracy: 75.88%\n",
      "KNN (k=11) Accuracy: 76.38%\n",
      "KNN (k=12) Accuracy: 75.88%\n",
      "KNN (k=13) Accuracy: 75.38%\n",
      "KNN (k=14) Accuracy: 76.38%\n",
      "KNN (k=15) Accuracy: 75.38%\n",
      "KNN (k=16) Accuracy: 74.37%\n",
      "KNN (k=17) Accuracy: 74.87%\n",
      "KNN (k=18) Accuracy: 73.37%\n",
      "KNN (k=19) Accuracy: 73.37%\n",
      "KNN (k=20) Accuracy: 71.86%\n",
      "KNN (k=21) Accuracy: 71.86%\n",
      "KNN (k=22) Accuracy: 71.86%\n",
      "KNN (k=23) Accuracy: 72.36%\n",
      "KNN (k=24) Accuracy: 72.36%\n",
      "KNN (k=25) Accuracy: 72.86%\n",
      "KNN (k=26) Accuracy: 73.87%\n",
      "KNN (k=27) Accuracy: 72.86%\n",
      "KNN (k=28) Accuracy: 72.86%\n",
      "KNN (k=29) Accuracy: 73.37%\n",
      "Best K value: 1 with accuracy 81.41%\n"
     ]
    }
   ],
   "source": [
    "from sklearn.neighbors import KNeighborsClassifier\n",
    "\n",
    "# Initialize a dictionary to store accuracy scores for different k values\n",
    "accuracy_scores = {}\n",
    "# Test k values from 5 to 19\n",
    "for k in range(1, 30):\n",
    "    # Create and train the KNN classifier\n",
    "    knn_classifier = KNeighborsClassifier(n_neighbors=k, metric='manhattan')\n",
    "    knn_classifier.fit(X_train_train_scaled, Y_train_train)\n",
    "\n",
    "    # Make predictions on the test set\n",
    "    Y_train_pred_knn = knn_classifier.predict(X_train_test_scaled)\n",
    "\n",
    "    # Calculate accuracy and store it in the dictionary\n",
    "    accuracy = accuracy_score(Y_train_test, Y_train_pred_knn)\n",
    "    accuracy_scores[k] = accuracy\n",
    "\n",
    "    print(f\"KNN (k={k}) Accuracy: {accuracy * 100:.2f}%\")\n",
    "\n",
    "# Find the k value with the highest accuracy\n",
    "best_k = max(accuracy_scores, key=accuracy_scores.get)\n",
    "print(f\"Best K value: {best_k} with accuracy {accuracy_scores[best_k] * 100:.2f}%\")"
   ]
  },
  {
   "cell_type": "code",
   "execution_count": 24,
   "metadata": {},
   "outputs": [],
   "source": [
    "test_data = pd.read_csv(\"iith_foml_2023_test.csv\")\n",
    "\n",
    "test_data = test_data.drop(columns=['Feature 16', 'Feature 17', 'Feature 18'])\n",
    "test_data = test_data.fillna(test_data.mean())\n",
    "X_test_scaled = scaler.transform(test_data)\n",
    "\n",
    "knn_classifier = KNeighborsClassifier(n_neighbors=3, metric='manhattan')\n",
    "knn_classifier.fit(X_train_scaled, Y_train)\n",
    "\n",
    "# Make predictions on the test set\n",
    "Y_pred_knn = knn_classifier.predict(X_test_scaled)\n",
    "\n",
    "result_df = pd.DataFrame({\n",
    "    'Id': test_data.index + 1,\n",
    "    'Category': Y_pred_knn\n",
    "})\n",
    "result_df.to_csv('predictions_rmf2.csv', index=False)\n"
   ]
  },
  {
   "cell_type": "code",
   "execution_count": 25,
   "metadata": {},
   "outputs": [],
   "source": [
    "\n",
    "# Y_pred_rf = rf_classifier.predict(test_data)\n",
    "\n",
    "# result_df = pd.DataFrame({\n",
    "#     'Id': test_data.index + 1,\n",
    "#     'Category': Y_pred_rf\n",
    "# })\n",
    "# result_df.to_csv('predictions.csv', index=False)"
   ]
  },
  {
   "cell_type": "code",
   "execution_count": 26,
   "metadata": {},
   "outputs": [
    {
     "name": "stdout",
     "output_type": "stream",
     "text": [
      "Rows in predictions_rmf2.csv but not in predictions_rmf.csv\n",
      "      Id  Category\n",
      "15    16         1\n",
      "16    17         0\n",
      "23    24         1\n",
      "30    31         0\n",
      "40    41         1\n",
      "..   ...       ...\n",
      "365  366         8\n",
      "377  378         3\n",
      "386  387         8\n",
      "393  394         2\n",
      "417  418         0\n",
      "\n",
      "[82 rows x 2 columns]\n",
      "\n",
      "Rows in predictions_rmf.csv but not in predictions_rmf2.csv\n",
      "      Id  Category\n",
      "15    16         5\n",
      "16    17        13\n",
      "23    24         2\n",
      "30    31        13\n",
      "40    41         2\n",
      "..   ...       ...\n",
      "365  366         0\n",
      "377  378         1\n",
      "386  387         2\n",
      "393  394         1\n",
      "417  418         2\n",
      "\n",
      "[82 rows x 2 columns]\n"
     ]
    }
   ],
   "source": [
    "file_path1 = \"predictions_rmf2.csv\"\n",
    "file_path2 = \"predictions_rmf.csv\"\n",
    "\n",
    "# Read the CSV files into pandas DataFrames\n",
    "df1 = pd.read_csv(file_path1)\n",
    "df2 = pd.read_csv(file_path2)\n",
    "\n",
    "# Find rows that are in df1 but not in df2\n",
    "df_diff1 = pd.concat([df1, df2]).drop_duplicates(keep=False)\n",
    "\n",
    "# Find rows that are in df2 but not in df1\n",
    "df_diff2 = pd.concat([df2, df1]).drop_duplicates(keep=False)\n",
    "\n",
    "# Display the differences\n",
    "print(\"Rows in\", file_path1, \"but not in\", file_path2)\n",
    "print(df_diff1)\n",
    "\n",
    "print(\"\\nRows in\", file_path2, \"but not in\", file_path1)\n",
    "print(df_diff2)"
   ]
  },
  {
   "cell_type": "code",
   "execution_count": 27,
   "metadata": {},
   "outputs": [
    {
     "name": "stdout",
     "output_type": "stream",
     "text": [
      "Rows in predictions_1.csv but not in 1.csv\n",
      "      Id  Category\n",
      "14    15         1\n",
      "15    16         5\n",
      "16    17        13\n",
      "21    22         2\n",
      "25    26         2\n",
      "..   ...       ...\n",
      "388  389        14\n",
      "391  392         0\n",
      "417  418         1\n",
      "420  421         0\n",
      "425  426        17\n",
      "\n",
      "[110 rows x 2 columns]\n",
      "\n",
      "Rows in 1.csv but not in predictions_1.csv\n",
      "      Id  Category\n",
      "14    15         2\n",
      "15    16         0\n",
      "16    17         8\n",
      "21    22         8\n",
      "25    26         0\n",
      "..   ...       ...\n",
      "388  389         1\n",
      "391  392         2\n",
      "417  418         0\n",
      "420  421         2\n",
      "425  426         0\n",
      "\n",
      "[110 rows x 2 columns]\n"
     ]
    }
   ],
   "source": [
    "file_path1 = \"predictions_1.csv\"\n",
    "file_path2 = \"1.csv\"\n",
    "\n",
    "# Read the CSV files into pandas DataFrames\n",
    "df1 = pd.read_csv(file_path1)\n",
    "df2 = pd.read_csv(file_path2)\n",
    "\n",
    "# Find rows that are in df1 but not in df2\n",
    "df_diff1 = pd.concat([df1, df2]).drop_duplicates(keep=False)\n",
    "\n",
    "# Find rows that are in df2 but not in df1\n",
    "df_diff2 = pd.concat([df2, df1]).drop_duplicates(keep=False)\n",
    "\n",
    "# Display the differences\n",
    "print(\"Rows in\", file_path1, \"but not in\", file_path2)\n",
    "print(df_diff1)\n",
    "\n",
    "print(\"\\nRows in\", file_path2, \"but not in\", file_path1)\n",
    "print(df_diff2)"
   ]
  },
  {
   "cell_type": "code",
   "execution_count": 28,
   "metadata": {},
   "outputs": [
    {
     "name": "stdout",
     "output_type": "stream",
     "text": [
      "Value counts for Category :\n",
      " Category\n",
      "1     218\n",
      "0     103\n",
      "2      42\n",
      "6      27\n",
      "5      17\n",
      "14      5\n",
      "8       4\n",
      "4       4\n",
      "7       1\n",
      "9       1\n",
      "15      1\n",
      "3       1\n",
      "12      1\n",
      "17      1\n",
      "Name: count, dtype: int64\n"
     ]
    }
   ],
   "source": [
    "data = pd.read_csv(\"1.csv\")\n",
    "\n",
    "# Choose the column for which you want to count values\n",
    "selected_column = \"Category\"\n",
    "\n",
    "# Count the number of different values and their counts\n",
    "value_counts = data[selected_column].value_counts()\n",
    "\n",
    "# Display the result\n",
    "print(\"Value counts for\", selected_column, \":\\n\", value_counts)"
   ]
  }
 ],
 "metadata": {
  "kernelspec": {
   "display_name": "Python 3",
   "language": "python",
   "name": "python3"
  },
  "language_info": {
   "codemirror_mode": {
    "name": "ipython",
    "version": 3
   },
   "file_extension": ".py",
   "mimetype": "text/x-python",
   "name": "python",
   "nbconvert_exporter": "python",
   "pygments_lexer": "ipython3",
   "version": "3.10.12"
  }
 },
 "nbformat": 4,
 "nbformat_minor": 2
}
