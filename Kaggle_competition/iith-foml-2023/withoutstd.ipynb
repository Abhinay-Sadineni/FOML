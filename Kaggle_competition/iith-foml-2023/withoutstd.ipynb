{
 "cells": [
  {
   "cell_type": "code",
   "execution_count": 1,
   "metadata": {},
   "outputs": [],
   "source": [
    "import pandas as pd\n",
    "from sklearn.model_selection import train_test_split\n",
    "from sklearn.preprocessing import StandardScaler\n",
    "from sklearn.metrics import accuracy_score\n",
    "from sklearn.impute import KNNImputer\n",
    "\n",
    "train_data = pd.read_csv(\"iith_foml_2023_train.csv\")\n",
    "#train_data = train_data.fillna(train_data.mean())\n",
    "columns_with_missing = train_data.columns[train_data.isnull().any()].tolist()\n",
    "\n",
    "imputer = KNNImputer(n_neighbors=7)\n",
    "train_data_imputed = train_data.copy()\n",
    "train_data_imputed[columns_with_missing] = imputer.fit_transform(train_data[columns_with_missing])\n",
    "# changing the data\n",
    "# train_data.to_csv(\"train.csv\", index=False)\n",
    "# X_train = train_data.iloc[:, :-1]\n",
    "# Y_train = train_data.iloc[:, -1]\n",
    "X_train = train_data_imputed.iloc[:, :-1]\n",
    "Y_train = train_data_imputed.iloc[:, -1]\n",
    "X_train_train, X_train_test, Y_train_train, Y_train_test = train_test_split(X_train, Y_train, test_size=0.3, random_state=42)"
   ]
  },
  {
   "cell_type": "code",
   "execution_count": 2,
   "metadata": {},
   "outputs": [],
   "source": [
    "from imblearn.over_sampling import RandomOverSampler\n",
    "ros = RandomOverSampler(random_state=42)\n",
    "X_train, Y_train = ros.fit_resample(X_train, Y_train)\n",
    "X_train_train, Y_train_train = ros.fit_resample(X_train_train,Y_train_train)"
   ]
  },
  {
   "cell_type": "code",
   "execution_count": 3,
   "metadata": {},
   "outputs": [
    {
     "name": "stdout",
     "output_type": "stream",
     "text": [
      "KNN (k=1) Accuracy: 74.58%\n",
      "KNN (k=2) Accuracy: 72.58%\n",
      "KNN (k=3) Accuracy: 72.91%\n",
      "KNN (k=4) Accuracy: 72.58%\n",
      "KNN (k=5) Accuracy: 72.24%\n",
      "KNN (k=6) Accuracy: 70.57%\n",
      "KNN (k=7) Accuracy: 69.90%\n",
      "KNN (k=8) Accuracy: 69.90%\n",
      "KNN (k=9) Accuracy: 68.56%\n",
      "KNN (k=10) Accuracy: 67.89%\n",
      "KNN (k=11) Accuracy: 68.90%\n",
      "KNN (k=12) Accuracy: 69.57%\n",
      "KNN (k=13) Accuracy: 68.56%\n",
      "KNN (k=14) Accuracy: 66.22%\n",
      "KNN (k=15) Accuracy: 65.22%\n",
      "KNN (k=16) Accuracy: 64.55%\n",
      "KNN (k=17) Accuracy: 62.88%\n",
      "KNN (k=18) Accuracy: 62.54%\n",
      "KNN (k=19) Accuracy: 62.88%\n",
      "KNN (k=20) Accuracy: 63.55%\n",
      "KNN (k=21) Accuracy: 62.88%\n",
      "KNN (k=22) Accuracy: 63.21%\n",
      "KNN (k=23) Accuracy: 61.87%\n",
      "KNN (k=24) Accuracy: 62.21%\n",
      "KNN (k=25) Accuracy: 61.20%\n",
      "KNN (k=26) Accuracy: 60.20%\n",
      "KNN (k=27) Accuracy: 59.20%\n",
      "KNN (k=28) Accuracy: 59.20%\n",
      "KNN (k=29) Accuracy: 59.87%\n",
      "Best K value: 1 with accuracy 74.58%\n"
     ]
    }
   ],
   "source": [
    "from sklearn.neighbors import KNeighborsClassifier\n",
    "\n",
    "# Initialize a dictionary to store accuracy scores for different k values\n",
    "accuracy_scores = {}\n",
    "# Test k values from 5 to 19\n",
    "for k in range(1, 30):\n",
    "    # Create and train the KNN classifier\n",
    "    knn_classifier = KNeighborsClassifier(n_neighbors=k, metric='manhattan')\n",
    "    knn_classifier.fit(X_train_train, Y_train_train)\n",
    "\n",
    "    # Make predictions on the test set\n",
    "    Y_train_pred_knn = knn_classifier.predict(X_train_test)\n",
    "\n",
    "    # Calculate accuracy and store it in the dictionary\n",
    "    accuracy = accuracy_score(Y_train_test, Y_train_pred_knn)\n",
    "    accuracy_scores[k] = accuracy\n",
    "\n",
    "    print(f\"KNN (k={k}) Accuracy: {accuracy * 100:.2f}%\")\n",
    "\n",
    "# Find the k value with the highest accuracy\n",
    "best_k = max(accuracy_scores, key=accuracy_scores.get)\n",
    "print(f\"Best K value: {best_k} with accuracy {accuracy_scores[best_k] * 100:.2f}%\")"
   ]
  },
  {
   "cell_type": "code",
   "execution_count": 4,
   "metadata": {},
   "outputs": [
    {
     "ename": "ValueError",
     "evalue": "Input X contains NaN.\nKNeighborsClassifier does not accept missing values encoded as NaN natively. For supervised learning, you might want to consider sklearn.ensemble.HistGradientBoostingClassifier and Regressor which accept missing values encoded as NaNs natively. Alternatively, it is possible to preprocess the data, for instance by using an imputer transformer in a pipeline or drop samples with missing values. See https://scikit-learn.org/stable/modules/impute.html You can find a list of all estimators that handle NaN values at the following page: https://scikit-learn.org/stable/modules/impute.html#estimators-that-handle-nan-values",
     "output_type": "error",
     "traceback": [
      "\u001b[0;31m---------------------------------------------------------------------------\u001b[0m",
      "\u001b[0;31mValueError\u001b[0m                                Traceback (most recent call last)",
      "\u001b[1;32m/home/karthik/iith-foml-2023/withoutstd.ipynb Cell 4\u001b[0m line \u001b[0;36m9\n\u001b[1;32m      <a href='vscode-notebook-cell:/home/karthik/iith-foml-2023/withoutstd.ipynb#W4sZmlsZQ%3D%3D?line=5'>6</a>\u001b[0m knn_classifier\u001b[39m.\u001b[39mfit(X_train, Y_train)\n\u001b[1;32m      <a href='vscode-notebook-cell:/home/karthik/iith-foml-2023/withoutstd.ipynb#W4sZmlsZQ%3D%3D?line=7'>8</a>\u001b[0m \u001b[39m# Make predictions on the test set\u001b[39;00m\n\u001b[0;32m----> <a href='vscode-notebook-cell:/home/karthik/iith-foml-2023/withoutstd.ipynb#W4sZmlsZQ%3D%3D?line=8'>9</a>\u001b[0m Y_pred_knn \u001b[39m=\u001b[39m knn_classifier\u001b[39m.\u001b[39;49mpredict(test_data)\n\u001b[1;32m     <a href='vscode-notebook-cell:/home/karthik/iith-foml-2023/withoutstd.ipynb#W4sZmlsZQ%3D%3D?line=10'>11</a>\u001b[0m result_df \u001b[39m=\u001b[39m pd\u001b[39m.\u001b[39mDataFrame({\n\u001b[1;32m     <a href='vscode-notebook-cell:/home/karthik/iith-foml-2023/withoutstd.ipynb#W4sZmlsZQ%3D%3D?line=11'>12</a>\u001b[0m     \u001b[39m'\u001b[39m\u001b[39mId\u001b[39m\u001b[39m'\u001b[39m: test_data\u001b[39m.\u001b[39mindex \u001b[39m+\u001b[39m \u001b[39m1\u001b[39m,\n\u001b[1;32m     <a href='vscode-notebook-cell:/home/karthik/iith-foml-2023/withoutstd.ipynb#W4sZmlsZQ%3D%3D?line=12'>13</a>\u001b[0m     \u001b[39m'\u001b[39m\u001b[39mCategory\u001b[39m\u001b[39m'\u001b[39m: Y_pred_knn\n\u001b[1;32m     <a href='vscode-notebook-cell:/home/karthik/iith-foml-2023/withoutstd.ipynb#W4sZmlsZQ%3D%3D?line=13'>14</a>\u001b[0m })\n\u001b[1;32m     <a href='vscode-notebook-cell:/home/karthik/iith-foml-2023/withoutstd.ipynb#W4sZmlsZQ%3D%3D?line=14'>15</a>\u001b[0m result_df\u001b[39m.\u001b[39mto_csv(\u001b[39m'\u001b[39m\u001b[39mwithoutstd.csv\u001b[39m\u001b[39m'\u001b[39m, index\u001b[39m=\u001b[39m\u001b[39mFalse\u001b[39;00m)\n",
      "File \u001b[0;32m~/.local/lib/python3.10/site-packages/sklearn/neighbors/_classification.py:266\u001b[0m, in \u001b[0;36mKNeighborsClassifier.predict\u001b[0;34m(self, X)\u001b[0m\n\u001b[1;32m    263\u001b[0m         \u001b[39mreturn\u001b[39;00m \u001b[39mself\u001b[39m\u001b[39m.\u001b[39mclasses_[np\u001b[39m.\u001b[39margmax(probabilities, axis\u001b[39m=\u001b[39m\u001b[39m1\u001b[39m)]\n\u001b[1;32m    264\u001b[0m     \u001b[39m# In that case, we do not need the distances to perform\u001b[39;00m\n\u001b[1;32m    265\u001b[0m     \u001b[39m# the weighting so we do not compute them.\u001b[39;00m\n\u001b[0;32m--> 266\u001b[0m     neigh_ind \u001b[39m=\u001b[39m \u001b[39mself\u001b[39;49m\u001b[39m.\u001b[39;49mkneighbors(X, return_distance\u001b[39m=\u001b[39;49m\u001b[39mFalse\u001b[39;49;00m)\n\u001b[1;32m    267\u001b[0m     neigh_dist \u001b[39m=\u001b[39m \u001b[39mNone\u001b[39;00m\n\u001b[1;32m    268\u001b[0m \u001b[39melse\u001b[39;00m:\n",
      "File \u001b[0;32m~/.local/lib/python3.10/site-packages/sklearn/neighbors/_base.py:804\u001b[0m, in \u001b[0;36mKNeighborsMixin.kneighbors\u001b[0;34m(self, X, n_neighbors, return_distance)\u001b[0m\n\u001b[1;32m    802\u001b[0m         X \u001b[39m=\u001b[39m _check_precomputed(X)\n\u001b[1;32m    803\u001b[0m     \u001b[39melse\u001b[39;00m:\n\u001b[0;32m--> 804\u001b[0m         X \u001b[39m=\u001b[39m \u001b[39mself\u001b[39;49m\u001b[39m.\u001b[39;49m_validate_data(X, accept_sparse\u001b[39m=\u001b[39;49m\u001b[39m\"\u001b[39;49m\u001b[39mcsr\u001b[39;49m\u001b[39m\"\u001b[39;49m, reset\u001b[39m=\u001b[39;49m\u001b[39mFalse\u001b[39;49;00m, order\u001b[39m=\u001b[39;49m\u001b[39m\"\u001b[39;49m\u001b[39mC\u001b[39;49m\u001b[39m\"\u001b[39;49m)\n\u001b[1;32m    806\u001b[0m n_samples_fit \u001b[39m=\u001b[39m \u001b[39mself\u001b[39m\u001b[39m.\u001b[39mn_samples_fit_\n\u001b[1;32m    807\u001b[0m \u001b[39mif\u001b[39;00m n_neighbors \u001b[39m>\u001b[39m n_samples_fit:\n",
      "File \u001b[0;32m~/.local/lib/python3.10/site-packages/sklearn/base.py:605\u001b[0m, in \u001b[0;36mBaseEstimator._validate_data\u001b[0;34m(self, X, y, reset, validate_separately, cast_to_ndarray, **check_params)\u001b[0m\n\u001b[1;32m    603\u001b[0m         out \u001b[39m=\u001b[39m X, y\n\u001b[1;32m    604\u001b[0m \u001b[39melif\u001b[39;00m \u001b[39mnot\u001b[39;00m no_val_X \u001b[39mand\u001b[39;00m no_val_y:\n\u001b[0;32m--> 605\u001b[0m     out \u001b[39m=\u001b[39m check_array(X, input_name\u001b[39m=\u001b[39;49m\u001b[39m\"\u001b[39;49m\u001b[39mX\u001b[39;49m\u001b[39m\"\u001b[39;49m, \u001b[39m*\u001b[39;49m\u001b[39m*\u001b[39;49mcheck_params)\n\u001b[1;32m    606\u001b[0m \u001b[39melif\u001b[39;00m no_val_X \u001b[39mand\u001b[39;00m \u001b[39mnot\u001b[39;00m no_val_y:\n\u001b[1;32m    607\u001b[0m     out \u001b[39m=\u001b[39m _check_y(y, \u001b[39m*\u001b[39m\u001b[39m*\u001b[39mcheck_params)\n",
      "File \u001b[0;32m~/.local/lib/python3.10/site-packages/sklearn/utils/validation.py:957\u001b[0m, in \u001b[0;36mcheck_array\u001b[0;34m(array, accept_sparse, accept_large_sparse, dtype, order, copy, force_all_finite, ensure_2d, allow_nd, ensure_min_samples, ensure_min_features, estimator, input_name)\u001b[0m\n\u001b[1;32m    951\u001b[0m         \u001b[39mraise\u001b[39;00m \u001b[39mValueError\u001b[39;00m(\n\u001b[1;32m    952\u001b[0m             \u001b[39m\"\u001b[39m\u001b[39mFound array with dim \u001b[39m\u001b[39m%d\u001b[39;00m\u001b[39m. \u001b[39m\u001b[39m%s\u001b[39;00m\u001b[39m expected <= 2.\u001b[39m\u001b[39m\"\u001b[39m\n\u001b[1;32m    953\u001b[0m             \u001b[39m%\u001b[39m (array\u001b[39m.\u001b[39mndim, estimator_name)\n\u001b[1;32m    954\u001b[0m         )\n\u001b[1;32m    956\u001b[0m     \u001b[39mif\u001b[39;00m force_all_finite:\n\u001b[0;32m--> 957\u001b[0m         _assert_all_finite(\n\u001b[1;32m    958\u001b[0m             array,\n\u001b[1;32m    959\u001b[0m             input_name\u001b[39m=\u001b[39;49minput_name,\n\u001b[1;32m    960\u001b[0m             estimator_name\u001b[39m=\u001b[39;49mestimator_name,\n\u001b[1;32m    961\u001b[0m             allow_nan\u001b[39m=\u001b[39;49mforce_all_finite \u001b[39m==\u001b[39;49m \u001b[39m\"\u001b[39;49m\u001b[39mallow-nan\u001b[39;49m\u001b[39m\"\u001b[39;49m,\n\u001b[1;32m    962\u001b[0m         )\n\u001b[1;32m    964\u001b[0m \u001b[39mif\u001b[39;00m ensure_min_samples \u001b[39m>\u001b[39m \u001b[39m0\u001b[39m:\n\u001b[1;32m    965\u001b[0m     n_samples \u001b[39m=\u001b[39m _num_samples(array)\n",
      "File \u001b[0;32m~/.local/lib/python3.10/site-packages/sklearn/utils/validation.py:122\u001b[0m, in \u001b[0;36m_assert_all_finite\u001b[0;34m(X, allow_nan, msg_dtype, estimator_name, input_name)\u001b[0m\n\u001b[1;32m    119\u001b[0m \u001b[39mif\u001b[39;00m first_pass_isfinite:\n\u001b[1;32m    120\u001b[0m     \u001b[39mreturn\u001b[39;00m\n\u001b[0;32m--> 122\u001b[0m _assert_all_finite_element_wise(\n\u001b[1;32m    123\u001b[0m     X,\n\u001b[1;32m    124\u001b[0m     xp\u001b[39m=\u001b[39;49mxp,\n\u001b[1;32m    125\u001b[0m     allow_nan\u001b[39m=\u001b[39;49mallow_nan,\n\u001b[1;32m    126\u001b[0m     msg_dtype\u001b[39m=\u001b[39;49mmsg_dtype,\n\u001b[1;32m    127\u001b[0m     estimator_name\u001b[39m=\u001b[39;49mestimator_name,\n\u001b[1;32m    128\u001b[0m     input_name\u001b[39m=\u001b[39;49minput_name,\n\u001b[1;32m    129\u001b[0m )\n",
      "File \u001b[0;32m~/.local/lib/python3.10/site-packages/sklearn/utils/validation.py:171\u001b[0m, in \u001b[0;36m_assert_all_finite_element_wise\u001b[0;34m(X, xp, allow_nan, msg_dtype, estimator_name, input_name)\u001b[0m\n\u001b[1;32m    154\u001b[0m \u001b[39mif\u001b[39;00m estimator_name \u001b[39mand\u001b[39;00m input_name \u001b[39m==\u001b[39m \u001b[39m\"\u001b[39m\u001b[39mX\u001b[39m\u001b[39m\"\u001b[39m \u001b[39mand\u001b[39;00m has_nan_error:\n\u001b[1;32m    155\u001b[0m     \u001b[39m# Improve the error message on how to handle missing values in\u001b[39;00m\n\u001b[1;32m    156\u001b[0m     \u001b[39m# scikit-learn.\u001b[39;00m\n\u001b[1;32m    157\u001b[0m     msg_err \u001b[39m+\u001b[39m\u001b[39m=\u001b[39m (\n\u001b[1;32m    158\u001b[0m         \u001b[39mf\u001b[39m\u001b[39m\"\u001b[39m\u001b[39m\\n\u001b[39;00m\u001b[39m{\u001b[39;00mestimator_name\u001b[39m}\u001b[39;00m\u001b[39m does not accept missing values\u001b[39m\u001b[39m\"\u001b[39m\n\u001b[1;32m    159\u001b[0m         \u001b[39m\"\u001b[39m\u001b[39m encoded as NaN natively. For supervised learning, you might want\u001b[39m\u001b[39m\"\u001b[39m\n\u001b[0;32m   (...)\u001b[0m\n\u001b[1;32m    169\u001b[0m         \u001b[39m\"\u001b[39m\u001b[39m#estimators-that-handle-nan-values\u001b[39m\u001b[39m\"\u001b[39m\n\u001b[1;32m    170\u001b[0m     )\n\u001b[0;32m--> 171\u001b[0m \u001b[39mraise\u001b[39;00m \u001b[39mValueError\u001b[39;00m(msg_err)\n",
      "\u001b[0;31mValueError\u001b[0m: Input X contains NaN.\nKNeighborsClassifier does not accept missing values encoded as NaN natively. For supervised learning, you might want to consider sklearn.ensemble.HistGradientBoostingClassifier and Regressor which accept missing values encoded as NaNs natively. Alternatively, it is possible to preprocess the data, for instance by using an imputer transformer in a pipeline or drop samples with missing values. See https://scikit-learn.org/stable/modules/impute.html You can find a list of all estimators that handle NaN values at the following page: https://scikit-learn.org/stable/modules/impute.html#estimators-that-handle-nan-values"
     ]
    }
   ],
   "source": [
    "test_data = pd.read_csv(\"iith_foml_2023_test.csv\")\n",
    "imputer = KNNImputer(n_neighbors=7)\n",
    "test_data_imputed = pd.DataFrame(imputer.fit_transform(test_data), columns=test_data.columns)\n",
    "\n",
    "knn_classifier = KNeighborsClassifier(n_neighbors=9, metric='manhattan')\n",
    "knn_classifier.fit(X_train, Y_train)\n",
    "\n",
    "# Make predictions on the test set\n",
    "Y_pred_knn = knn_classifier.predict(test_data)\n",
    "\n",
    "result_df = pd.DataFrame({\n",
    "    'Id': test_data.index + 1,\n",
    "    'Category': Y_pred_knn\n",
    "})\n",
    "result_df.to_csv('withoutstd.csv', index=False)\n"
   ]
  },
  {
   "cell_type": "code",
   "execution_count": null,
   "metadata": {},
   "outputs": [],
   "source": [
    "\n",
    "# Y_pred_rf = rf_classifier.predict(test_data)\n",
    "\n",
    "# result_df = pd.DataFrame({\n",
    "#     'Id': test_data.index + 1,\n",
    "#     'Category': Y_pred_rf\n",
    "# })\n",
    "# result_df.to_csv('predictions.csv', index=False)"
   ]
  },
  {
   "cell_type": "code",
   "execution_count": null,
   "metadata": {},
   "outputs": [
    {
     "name": "stdout",
     "output_type": "stream",
     "text": [
      "Rows in predictions_man_9.csv but not in predictions_man_11.csv\n",
      "      Id  Category\n",
      "39    40         0\n",
      "98    99         2\n",
      "102  103         0\n",
      "111  112         2\n",
      "235  236         2\n",
      "286  287         0\n",
      "333  334         0\n",
      "345  346         2\n",
      "39    40         2\n",
      "98    99         5\n",
      "102  103         1\n",
      "111  112         5\n",
      "235  236         0\n",
      "286  287         2\n",
      "333  334         1\n",
      "345  346         0\n",
      "\n",
      "Rows in predictions_man_11.csv but not in predictions_man_9.csv\n",
      "      Id  Category\n",
      "39    40         2\n",
      "98    99         5\n",
      "102  103         1\n",
      "111  112         5\n",
      "235  236         0\n",
      "286  287         2\n",
      "333  334         1\n",
      "345  346         0\n",
      "39    40         0\n",
      "98    99         2\n",
      "102  103         0\n",
      "111  112         2\n",
      "235  236         2\n",
      "286  287         0\n",
      "333  334         0\n",
      "345  346         2\n"
     ]
    }
   ],
   "source": [
    "file_path1 = \"without.csv\"\n",
    "file_path2 = \"predictions_man_9.csv\"\n",
    "\n",
    "# Read the CSV files into pandas DataFrames\n",
    "df1 = pd.read_csv(file_path1)\n",
    "df2 = pd.read_csv(file_path2)\n",
    "\n",
    "# Find rows that are in df1 but not in df2\n",
    "df_diff1 = pd.concat([df1, df2]).drop_duplicates(keep=False)\n",
    "\n",
    "# Find rows that are in df2 but not in df1\n",
    "df_diff2 = pd.concat([df2, df1]).drop_duplicates(keep=False)\n",
    "\n",
    "# Display the differences\n",
    "print(\"Rows in\", file_path1, \"but not in\", file_path2)\n",
    "print(df_diff1)\n",
    "\n",
    "print(\"\\nRows in\", file_path2, \"but not in\", file_path1)\n",
    "print(df_diff2)"
   ]
  },
  {
   "cell_type": "code",
   "execution_count": null,
   "metadata": {},
   "outputs": [
    {
     "name": "stdout",
     "output_type": "stream",
     "text": [
      "Rows in predictions_man.csv but not in 1.csv\n",
      "      Id  Category\n",
      "14    15         1\n",
      "15    16         5\n",
      "16    17        13\n",
      "21    22         2\n",
      "25    26         2\n",
      "..   ...       ...\n",
      "388  389        14\n",
      "391  392         0\n",
      "417  418         1\n",
      "420  421         0\n",
      "425  426        17\n",
      "\n",
      "[114 rows x 2 columns]\n",
      "\n",
      "Rows in 1.csv but not in predictions_man.csv\n",
      "      Id  Category\n",
      "14    15         2\n",
      "15    16         0\n",
      "16    17         8\n",
      "21    22         8\n",
      "25    26         0\n",
      "..   ...       ...\n",
      "388  389         1\n",
      "391  392         2\n",
      "417  418         0\n",
      "420  421         2\n",
      "425  426         0\n",
      "\n",
      "[114 rows x 2 columns]\n"
     ]
    }
   ],
   "source": [
    "file_path1 = \"predictions_man.csv\"\n",
    "file_path2 = \"1.csv\"\n",
    "\n",
    "# Read the CSV files into pandas DataFrames\n",
    "df1 = pd.read_csv(file_path1)\n",
    "df2 = pd.read_csv(file_path2)\n",
    "\n",
    "# Find rows that are in df1 but not in df2\n",
    "df_diff1 = pd.concat([df1, df2]).drop_duplicates(keep=False)\n",
    "\n",
    "# Find rows that are in df2 but not in df1\n",
    "df_diff2 = pd.concat([df2, df1]).drop_duplicates(keep=False)\n",
    "\n",
    "# Display the differences\n",
    "print(\"Rows in\", file_path1, \"but not in\", file_path2)\n",
    "print(df_diff1)\n",
    "\n",
    "print(\"\\nRows in\", file_path2, \"but not in\", file_path1)\n",
    "print(df_diff2)"
   ]
  }
 ],
 "metadata": {
  "kernelspec": {
   "display_name": "Python 3",
   "language": "python",
   "name": "python3"
  },
  "language_info": {
   "codemirror_mode": {
    "name": "ipython",
    "version": 3
   },
   "file_extension": ".py",
   "mimetype": "text/x-python",
   "name": "python",
   "nbconvert_exporter": "python",
   "pygments_lexer": "ipython3",
   "version": "3.10.12"
  }
 },
 "nbformat": 4,
 "nbformat_minor": 2
}
