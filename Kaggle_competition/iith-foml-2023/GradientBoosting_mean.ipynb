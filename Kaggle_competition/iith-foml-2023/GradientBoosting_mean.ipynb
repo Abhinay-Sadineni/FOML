{
 "cells": [
  {
   "cell_type": "code",
   "execution_count": 8,
   "metadata": {},
   "outputs": [],
   "source": [
    "import pandas as pd\n",
    "from sklearn.model_selection import train_test_split\n",
    "\n",
    "train_data = pd.read_csv(\"iith_foml_2023_train.csv\")\n",
    "# #changing the data\n",
    "# train_data.to_csv(\"train.csv\", index=False)\n",
    "# X_train = train_data.iloc[:, :-1]\n",
    "# Y_train = train_data.iloc[:, -1]\n",
    "X = train_data.iloc[:, :-1]\n",
    "Y = train_data.iloc[:, -1]\n",
    "X_train, X_test, Y_train, Y_test = train_test_split(X, Y, test_size=0.3, random_state=42)\n"
   ]
  },
  {
   "cell_type": "code",
   "execution_count": 9,
   "metadata": {},
   "outputs": [],
   "source": [
    "from imblearn.over_sampling import RandomOverSampler\n",
    "ros = RandomOverSampler(random_state=42)\n",
    "X, Y = ros.fit_resample(X, Y)\n",
    "X_train, Y_train = ros.fit_resample(X_train, Y_train)"
   ]
  },
  {
   "cell_type": "code",
   "execution_count": 10,
   "metadata": {},
   "outputs": [
    {
     "name": "stdout",
     "output_type": "stream",
     "text": [
      "Hist Gradient Boosting Accuracy with Class Weights: 88.29%\n"
     ]
    }
   ],
   "source": [
    "from sklearn.ensemble import HistGradientBoostingClassifier\n",
    "from sklearn.metrics import accuracy_score\n",
    "\n",
    "hist_gb_classifier_weighted = HistGradientBoostingClassifier(random_state=42)\n",
    "\n",
    "# Fit the model with class weights\n",
    "hist_gb_classifier_weighted.fit(X_train, Y_train)\n",
    "\n",
    "# Make predictions on the test set\n",
    "Y_pred_hist_gb_weighted = hist_gb_classifier_weighted.predict(X_test)\n",
    "\n",
    "# Evaluate the Histogram-Based Gradient Boosting model with class weights\n",
    "accuracy_hist_gb_weighted = accuracy_score(Y_test, Y_pred_hist_gb_weighted)\n",
    "print(f\"Hist Gradient Boosting Accuracy with Class Weights: {accuracy_hist_gb_weighted * 100:.2f}%\")"
   ]
  },
  {
   "cell_type": "code",
   "execution_count": 11,
   "metadata": {},
   "outputs": [],
   "source": [
    "test_data = pd.read_csv(\"iith_foml_2023_test.csv\")\n",
    "Y_pred_rf = hist_gb_classifier_weighted.predict(test_data)\n",
    "\n",
    "result_df = pd.DataFrame({\n",
    "    'Id': test_data.index + 1,\n",
    "    'Category': Y_pred_rf\n",
    "})\n",
    "result_df.to_csv('predictions_hgb.csv', index=False)"
   ]
  },
  {
   "cell_type": "code",
   "execution_count": 12,
   "metadata": {},
   "outputs": [
    {
     "name": "stdout",
     "output_type": "stream",
     "text": [
      "164\n",
      "Rows in predictions_hgb.csv but not in predictions_gb.csv\n",
      "      Id  Category\n",
      "1      2         0\n",
      "7      8         5\n",
      "8      9         1\n",
      "16    17         5\n",
      "25    26         2\n",
      "..   ...       ...\n",
      "391  392         0\n",
      "398  399         1\n",
      "412  413         2\n",
      "417  418         2\n",
      "425  426        17\n",
      "\n",
      "[82 rows x 2 columns]\n",
      "\n",
      "Rows in predictions_gb.csv but not in predictions_hgb.csv\n",
      "      Id  Category\n",
      "1      2         2\n",
      "7      8        10\n",
      "8      9        14\n",
      "16    17         2\n",
      "25    26         1\n",
      "..   ...       ...\n",
      "391  392         8\n",
      "398  399         4\n",
      "412  413         0\n",
      "417  418         1\n",
      "425  426         1\n",
      "\n",
      "[82 rows x 2 columns]\n"
     ]
    }
   ],
   "source": [
    "file_path1 = \"predictions_hgb.csv\"\n",
    "file_path2 = \"predictions_gb.csv\"\n",
    "\n",
    "# Read the CSV files into pandas DataFrames\n",
    "df1 = pd.read_csv(file_path1)\n",
    "df2 = pd.read_csv(file_path2)\n",
    "\n",
    "# Find rows that are in df1 but not in df2\n",
    "df_diff1 = pd.concat([df1, df2]).drop_duplicates(keep=False)\n",
    "\n",
    "# Find rows that are in df2 but not in df1\n",
    "df_diff2 = pd.concat([df2, df1]).drop_duplicates(keep=False)\n",
    "\n",
    "# Display the differences\n",
    "print(df_diff1.size)\n",
    "print(\"Rows in\", file_path1, \"but not in\", file_path2)\n",
    "print(df_diff1)\n",
    "\n",
    "print(\"\\nRows in\", file_path2, \"but not in\", file_path1)\n",
    "print(df_diff2)"
   ]
  },
  {
   "cell_type": "code",
   "execution_count": 13,
   "metadata": {},
   "outputs": [
    {
     "name": "stdout",
     "output_type": "stream",
     "text": [
      "156\n",
      "Rows in predictions_hgb.csv but not in 1.csv\n",
      "      Id  Category\n",
      "1      2         0\n",
      "8      9         1\n",
      "16    17         5\n",
      "21    22         5\n",
      "25    26         2\n",
      "..   ...       ...\n",
      "388  389        14\n",
      "391  392         0\n",
      "398  399         1\n",
      "412  413         2\n",
      "425  426        17\n",
      "\n",
      "[78 rows x 2 columns]\n",
      "\n",
      "Rows in 1.csv but not in predictions_hgb.csv\n",
      "      Id  Category\n",
      "1      2         2\n",
      "8      9         5\n",
      "16    17         8\n",
      "21    22         8\n",
      "25    26         0\n",
      "..   ...       ...\n",
      "388  389         1\n",
      "391  392         8\n",
      "398  399         4\n",
      "412  413         0\n",
      "425  426         1\n",
      "\n",
      "[78 rows x 2 columns]\n"
     ]
    }
   ],
   "source": [
    "file_path1 = \"predictions_hgb.csv\"\n",
    "file_path2 = \"1.csv\"\n",
    "\n",
    "# Read the CSV files into pandas DataFrames\n",
    "df1 = pd.read_csv(file_path1)\n",
    "df2 = pd.read_csv(file_path2)\n",
    "\n",
    "# Find rows that are in df1 but not in df2\n",
    "df_diff1 = pd.concat([df1, df2]).drop_duplicates(keep=False)\n",
    "\n",
    "# Find rows that are in df2 but not in df1\n",
    "df_diff2 = pd.concat([df2, df1]).drop_duplicates(keep=False)\n",
    "\n",
    "# Display the differences\n",
    "print(df_diff1.size)\n",
    "print(\"Rows in\", file_path1, \"but not in\", file_path2)\n",
    "print(df_diff1)\n",
    "\n",
    "print(\"\\nRows in\", file_path2, \"but not in\", file_path1)\n",
    "print(df_diff2)"
   ]
  }
 ],
 "metadata": {
  "kernelspec": {
   "display_name": "Python 3",
   "language": "python",
   "name": "python3"
  },
  "language_info": {
   "codemirror_mode": {
    "name": "ipython",
    "version": 3
   },
   "file_extension": ".py",
   "mimetype": "text/x-python",
   "name": "python",
   "nbconvert_exporter": "python",
   "pygments_lexer": "ipython3",
   "version": "3.10.12"
  }
 },
 "nbformat": 4,
 "nbformat_minor": 2
}
