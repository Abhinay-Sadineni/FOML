{
 "cells": [
  {
   "cell_type": "code",
   "execution_count": 27,
   "metadata": {},
   "outputs": [],
   "source": [
    "import pandas as pd\n",
    "from sklearn.model_selection import train_test_split\n",
    "from sklearn.preprocessing import StandardScaler\n",
    "from sklearn.metrics import accuracy_score\n",
    "from sklearn.impute import KNNImputer\n",
    "\n",
    "train_data = pd.read_csv(\"iith_foml_2023_train.csv\")\n",
    "#train_data = train_data.fillna(train_data.mean())\n",
    "columns_with_missing = train_data.columns[train_data.isnull().any()].tolist()\n",
    "\n",
    "imputer = KNNImputer(n_neighbors=1)\n",
    "train_data_imputed = train_data.copy()\n",
    "train_data_imputed[columns_with_missing] = imputer.fit_transform(train_data[columns_with_missing])\n",
    "# changing the data\n",
    "# train_data.to_csv(\"train.csv\", index=False)\n",
    "# X_train = train_data.iloc[:, :-1]\n",
    "# Y_train = train_data.iloc[:, -1]\n",
    "X_train = train_data_imputed.iloc[:, :-1]\n",
    "Y_train = train_data_imputed.iloc[:, -1]\n",
    "X_train_train, X_train_test, Y_train_train, Y_train_test = train_test_split(X_train, Y_train, test_size=0.3, random_state=42)\n"
   ]
  },
  {
   "cell_type": "code",
   "execution_count": 28,
   "metadata": {},
   "outputs": [],
   "source": [
    "scaler = StandardScaler()\n",
    "X_train_scaled = scaler.fit_transform(X_train)\n",
    "X_train_train_scaled = scaler.transform(X_train_train)\n",
    "X_train_test_scaled = scaler.transform(X_train_test)"
   ]
  },
  {
   "cell_type": "code",
   "execution_count": 39,
   "metadata": {},
   "outputs": [
    {
     "name": "stdout",
     "output_type": "stream",
     "text": [
      "SVM Accuracy: 72.24%\n"
     ]
    }
   ],
   "source": [
    "from sklearn.svm import SVC\n",
    "\n",
    "svm_classifier = SVC(kernel='poly',random_state=42)\n",
    "svm_classifier.fit(X_train_train_scaled, Y_train_train)\n",
    "\n",
    "# Make predictions on the test set\n",
    "Y_pred_svm = svm_classifier.predict(X_train_test_scaled)\n",
    "\n",
    "# Evaluate the SVM model\n",
    "accuracy_svm = accuracy_score(Y_train_test, Y_pred_svm)\n",
    "print(f\"SVM Accuracy: {accuracy_svm * 100:.2f}%\")"
   ]
  },
  {
   "cell_type": "code",
   "execution_count": 30,
   "metadata": {},
   "outputs": [],
   "source": [
    "test_data = pd.read_csv(\"iith_foml_2023_test.csv\")\n",
    "imputer = KNNImputer(n_neighbors=1)\n",
    "test_data_imputed = pd.DataFrame(imputer.fit_transform(test_data), columns=test_data.columns)\n",
    "X_test_scaled = scaler.transform(test_data_imputed)\n",
    "svm_classifier.fit(X_train_train_scaled, Y_train_train)\n",
    "\n",
    "# Make predictions on the test set\n",
    "Y_pred_svm = svm_classifier.predict(X_test_scaled)\n",
    "\n",
    "\n",
    "result_df = pd.DataFrame({\n",
    "    'Id': test_data.index + 1,\n",
    "    'Category': Y_pred_svm\n",
    "})\n",
    "result_df.to_csv('predictions_svm.csv', index=False)\n"
   ]
  },
  {
   "cell_type": "code",
   "execution_count": 31,
   "metadata": {},
   "outputs": [],
   "source": [
    "\n",
    "# Y_pred_rf = rf_classifier.predict(test_data)\n",
    "\n",
    "# result_df = pd.DataFrame({\n",
    "#     'Id': test_data.index + 1,\n",
    "#     'Category': Y_pred_rf\n",
    "# })\n",
    "# result_df.to_csv('predictions.csv', index=False)"
   ]
  },
  {
   "cell_type": "code",
   "execution_count": 36,
   "metadata": {},
   "outputs": [
    {
     "name": "stdout",
     "output_type": "stream",
     "text": [
      "Rows in predictions_svm.csv but not in predictions1.csv\n",
      "      Id  Category\n",
      "11    12         1\n",
      "16    17         2\n",
      "21    22         1\n",
      "23    24         2\n",
      "27    28         1\n",
      "..   ...       ...\n",
      "391  392         0\n",
      "396  397         5\n",
      "398  399         1\n",
      "404  405         2\n",
      "425  426         0\n",
      "\n",
      "[108 rows x 2 columns]\n",
      "\n",
      "Rows in predictions1.csv but not in predictions_svm.csv\n",
      "      Id  Category\n",
      "11    12         6\n",
      "16    17         1\n",
      "21    22         2\n",
      "23    24         1\n",
      "27    28         0\n",
      "..   ...       ...\n",
      "391  392         2\n",
      "396  397         2\n",
      "398  399         2\n",
      "404  405         0\n",
      "425  426         1\n",
      "\n",
      "[108 rows x 2 columns]\n"
     ]
    }
   ],
   "source": [
    "file_path1 = \"predictions_svm.csv\"\n",
    "file_path2 = \"predictions1.csv\"\n",
    "\n",
    "# Read the CSV files into pandas DataFrames\n",
    "df1 = pd.read_csv(file_path1)\n",
    "df2 = pd.read_csv(file_path2)\n",
    "\n",
    "# Find rows that are in df1 but not in df2\n",
    "df_diff1 = pd.concat([df1, df2]).drop_duplicates(keep=False)\n",
    "\n",
    "# Find rows that are in df2 but not in df1\n",
    "df_diff2 = pd.concat([df2, df1]).drop_duplicates(keep=False)\n",
    "\n",
    "# Display the differences\n",
    "print(\"Rows in\", file_path1, \"but not in\", file_path2)\n",
    "print(df_diff1)\n",
    "\n",
    "print(\"\\nRows in\", file_path2, \"but not in\", file_path1)\n",
    "print(df_diff2)"
   ]
  },
  {
   "cell_type": "code",
   "execution_count": 35,
   "metadata": {},
   "outputs": [
    {
     "name": "stdout",
     "output_type": "stream",
     "text": [
      "Rows in predictions_svm.csv but not in predictions_wkNN.csv\n",
      "      Id  Category\n",
      "8      9         1\n",
      "11    12         1\n",
      "16    17         2\n",
      "21    22         1\n",
      "23    24         2\n",
      "..   ...       ...\n",
      "396  397         5\n",
      "398  399         1\n",
      "404  405         2\n",
      "420  421         2\n",
      "425  426         0\n",
      "\n",
      "[142 rows x 2 columns]\n",
      "\n",
      "Rows in predictions_wkNN.csv but not in predictions_svm.csv\n",
      "      Id  Category\n",
      "8      9         5\n",
      "11    12         6\n",
      "16    17         5\n",
      "21    22         2\n",
      "23    24         5\n",
      "..   ...       ...\n",
      "396  397         2\n",
      "398  399         2\n",
      "404  405         0\n",
      "420  421         0\n",
      "425  426         1\n",
      "\n",
      "[142 rows x 2 columns]\n"
     ]
    }
   ],
   "source": [
    "file_path1 = \"predictions_svm.csv\"\n",
    "file_path2 = \"predictions_wkNN.csv\"\n",
    "\n",
    "# Read the CSV files into pandas DataFrames\n",
    "df1 = pd.read_csv(file_path1)\n",
    "df2 = pd.read_csv(file_path2)\n",
    "\n",
    "# Find rows that are in df1 but not in df2\n",
    "df_diff1 = pd.concat([df1, df2]).drop_duplicates(keep=False)\n",
    "\n",
    "# Find rows that are in df2 but not in df1\n",
    "df_diff2 = pd.concat([df2, df1]).drop_duplicates(keep=False)\n",
    "\n",
    "# Display the differences\n",
    "print(\"Rows in\", file_path1, \"but not in\", file_path2)\n",
    "print(df_diff1)\n",
    "\n",
    "print(\"\\nRows in\", file_path2, \"but not in\", file_path1)\n",
    "print(df_diff2)"
   ]
  }
 ],
 "metadata": {
  "kernelspec": {
   "display_name": "Python 3",
   "language": "python",
   "name": "python3"
  },
  "language_info": {
   "codemirror_mode": {
    "name": "ipython",
    "version": 3
   },
   "file_extension": ".py",
   "mimetype": "text/x-python",
   "name": "python",
   "nbconvert_exporter": "python",
   "pygments_lexer": "ipython3",
   "version": "3.10.12"
  }
 },
 "nbformat": 4,
 "nbformat_minor": 2
}
